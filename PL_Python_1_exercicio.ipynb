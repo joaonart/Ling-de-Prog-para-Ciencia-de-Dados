{
  "cells": [
    {
      "cell_type": "markdown",
      "metadata": {
        "id": "pqEhMdFQO3A-"
      },
      "source": [
        "<head>\n",
        "  <meta name=\"author\" content=\"Rogério de Oliveira\">\n",
        "  <meta institution=\"author\" content=\"Universidade Presbiteriana Mackenzie\">\n",
        "</head>\n",
        "\n",
        "<img src=\"http://meusite.mackenzie.br/rogerio/mackenzie_logo/UPM.2_horizontal_vermelho.jpg\" width=300, align=\"right\"> \n",
        "\n",
        "<h1 align=left><font size = 8, style=\"color:rgb(200,0,0)\"><b>Ciência de Dados </b></font></h1> \n",
        "<h1 align=left><font size = 5, style=\"color:rgb(0,0,0)\"><b>Paradigmas de Linguagens de\n",
        "Programação para Ciência de Dados</b></font></h1> \n",
        "\n",
        "# 1 Introdução à Programação Python\n",
        "Professores: *Diego Nogare* & *Rogério de Oliveira* \n",
        "\n",
        "<br>\n",
        "<br>\n",
        "\n",
        "---\n"
      ]
    },
    {
      "cell_type": "markdown",
      "metadata": {
        "id": "42yF1G-yHu98"
      },
      "source": [
        "# Exercícios"
      ]
    },
    {
      "cell_type": "markdown",
      "metadata": {
        "id": "BDm3FTRtWXCY"
      },
      "source": [
        "Em todos os exercícios execute o código abaixo como a primeira instrução e uma única vez para gerar os valores de `letras` e `lista`.\n",
        "\n",
        "Todos exercícios possuem várias soluções possíveis, mas não se preocupe com isso. A melhor solução é primeiro, a que funciona para você!"
      ]
    },
    {
      "cell_type": "code",
      "execution_count": null,
      "metadata": {
        "colab": {
          "base_uri": "https://localhost:8080/"
        },
        "id": "xBjopVrbVgb5",
        "outputId": "b4eecce9-1bb2-49e8-9a1f-0d8cb99354bc"
      },
      "outputs": [
        {
          "name": "stdout",
          "output_type": "stream",
          "text": [
            "True\n"
          ]
        }
      ],
      "source": [
        "import random; from random import choices; import string; random.seed(1234)\n",
        "import numpy as np\n",
        "letras = choices(string.ascii_lowercase,k=100)\n",
        "lista = random.sample(range(1, 10000), 1000)\n",
        "print(np.array(lista).sum() == 5244799) # precisa retornar True!"
      ]
    },
    {
      "cell_type": "markdown",
      "metadata": {
        "id": "XEngnerfXmKX"
      },
      "source": [
        "1. Dos valores [9887, 3233, 813] quais estão presentes em `lista` e, se presentes, qual o seu índice? "
      ]
    },
    {
      "cell_type": "code",
      "execution_count": null,
      "metadata": {
        "id": "8KlbNKnHR6VZ"
      },
      "outputs": [],
      "source": [
        "# seu código"
      ]
    },
    {
      "cell_type": "markdown",
      "metadata": {
        "id": "95H7DlB_YARA"
      },
      "source": [
        "2. Quais os dois primeiros valores maiores que 2046 em `lista`?"
      ]
    },
    {
      "cell_type": "code",
      "execution_count": null,
      "metadata": {
        "id": "D5HtxhSKagDu"
      },
      "outputs": [],
      "source": [
        "# seu código"
      ]
    },
    {
      "cell_type": "markdown",
      "metadata": {
        "id": "_i-bSWW9YNa_"
      },
      "source": [
        "3. Quais os valores mínimo e máximo em `lista`? "
      ]
    },
    {
      "cell_type": "code",
      "execution_count": null,
      "metadata": {
        "id": "8-6xfJ92agcF"
      },
      "outputs": [],
      "source": [
        "# seu código"
      ]
    },
    {
      "cell_type": "markdown",
      "metadata": {
        "id": "yJOItauOYa-g"
      },
      "source": [
        "4. Quais as 4 letras que mais aparecem em `letras`?\n",
        "\n",
        "<small> ( Existe várias formas de fazer isso, mas fica aqui a sugestão: se você implementar um dicionário *letra:quantidade* poderá empregar a mesma solução na tarefa de aprofundamento! ) </small> "
      ]
    },
    {
      "cell_type": "code",
      "execution_count": null,
      "metadata": {
        "id": "48y8A-6Cag6I"
      },
      "outputs": [],
      "source": [
        "# seu código"
      ]
    },
    {
      "cell_type": "markdown",
      "metadata": {
        "id": "cdADnpZFZKxg"
      },
      "source": [
        "5. Qual a soma dos valores pares de `lista`?"
      ]
    },
    {
      "cell_type": "code",
      "execution_count": 1,
      "metadata": {
        "id": "LnOxIdHWahaI"
      },
      "outputs": [
        {
          "name": "stdout",
          "output_type": "stream",
          "text": [
            "{'Beatriz': 1978, 'Henrique': 2004, 'Adriana': 1984, 'Daniel': 1996, 'Clara': 1999}\n"
          ]
        }
      ],
      "source": [
        "# seu código\n",
        "\n",
        "aniversarios = {'Beatriz':1978, 'Henrique':2004, 'Adriana':1984, 'Daniel':1996}\n",
        "\n",
        "aniversarios['Clara'] = 1999\n",
        "\n",
        "print(aniversarios)"
      ]
    }
  ],
  "metadata": {
    "colab": {
      "name": "PL_Python_1_exercicio.ipynb",
      "provenance": []
    },
    "kernelspec": {
      "display_name": "Python 3",
      "name": "python3"
    },
    "language_info": {
      "codemirror_mode": {
        "name": "ipython",
        "version": 3
      },
      "file_extension": ".py",
      "mimetype": "text/x-python",
      "name": "python",
      "nbconvert_exporter": "python",
      "pygments_lexer": "ipython3",
      "version": "3.9.12"
    }
  },
  "nbformat": 4,
  "nbformat_minor": 0
}
